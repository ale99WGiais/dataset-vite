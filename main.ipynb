{
 "cells": [
  {
   "cell_type": "code",
   "execution_count": 97,
   "metadata": {
    "collapsed": true
   },
   "outputs": [],
   "source": [
    "import pandas as pd\n",
    "from pysat.solvers import Glucose3"
   ]
  },
  {
   "cell_type": "code",
   "execution_count": 98,
   "outputs": [
    {
     "data": {
      "text/plain": "     Numerical code\\Accession_name VChr1a_1 VChr1a_2 VChr1b_1 VChr1b_2  \\\n0                        1\\ABBUOTO      197      222      107      107   \n1                        2\\ABRUSCO      222      222       99      107   \n2                      3\\AGLIANICO      222      226       99      107   \n3                         6\\ALBANA      222      222       99      107   \n4                      7\\ALBANELLO      222      230       99       99   \n...                            ...      ...      ...      ...      ...   \n1000                1197\\SIRIGIOLO      222      222      107      107   \n1001           1198\\TREBBIANO_ROSA      222      222       99       99   \n1002                 1199\\TINTURIE      222      222       99       99   \n1003            1200\\TRALCIO_ROSSO      222      222       99      107   \n1004             CRA\\VELTLINER_ROT      197      222       95       99   \n\n     VChr1c_1 VChr1c_2 VChr2a_1 VChr2a_2 VChr2b_1  ... Vchr17a_2 Vchr18a_1  \\\n0          95      103      146      154      115  ...         *       167   \n1          95      103      137      146      115  ...       185       159   \n2         103      103      146      146      123  ...       177       155   \n3          95       95      146      154      115  ...       177       163   \n4          95      103      146      146      123  ...       185       163   \n...       ...      ...      ...      ...      ...  ...       ...       ...   \n1000       95      103      146      146      115  ...       185       159   \n1001       95      103      146      146        *  ...       177       163   \n1002       95      103      146      154      115  ...       177       151   \n1003       95      103      141      146      115  ...       177       151   \n1004       95      103      137      146      123  ...       185       151   \n\n     Vchr18a_2 Vchr18b_1 Vchr18b_2 Vchr19a_1 Vchr19a_2 Vchr19b_1 Vchr19b_2  \\\n0          192       146       147       146       146       162       166   \n1          167       146       146       142       142       162       166   \n2          159       146       146       142       146       166       166   \n3          163       146       154       139       142       162       162   \n4          167       146       154       146       146       162       162   \n...        ...       ...       ...       ...       ...       ...       ...   \n1000       163       146       146       142       146       162       162   \n1001       163       146       147       146       146       162       166   \n1002       163       147       147       142       146       166       170   \n1003       151       146       147       146       146       166       166   \n1004       163       146       154       149       149       158       158   \n\n       idx  \n0        1  \n1        2  \n2        3  \n3        4  \n4        5  \n...    ...  \n1000  1001  \n1001  1002  \n1002  1003  \n1003  1004  \n1004  1005  \n\n[1005 rows x 70 columns]",
      "text/html": "<div>\n<style scoped>\n    .dataframe tbody tr th:only-of-type {\n        vertical-align: middle;\n    }\n\n    .dataframe tbody tr th {\n        vertical-align: top;\n    }\n\n    .dataframe thead th {\n        text-align: right;\n    }\n</style>\n<table border=\"1\" class=\"dataframe\">\n  <thead>\n    <tr style=\"text-align: right;\">\n      <th></th>\n      <th>Numerical code\\Accession_name</th>\n      <th>VChr1a_1</th>\n      <th>VChr1a_2</th>\n      <th>VChr1b_1</th>\n      <th>VChr1b_2</th>\n      <th>VChr1c_1</th>\n      <th>VChr1c_2</th>\n      <th>VChr2a_1</th>\n      <th>VChr2a_2</th>\n      <th>VChr2b_1</th>\n      <th>...</th>\n      <th>Vchr17a_2</th>\n      <th>Vchr18a_1</th>\n      <th>Vchr18a_2</th>\n      <th>Vchr18b_1</th>\n      <th>Vchr18b_2</th>\n      <th>Vchr19a_1</th>\n      <th>Vchr19a_2</th>\n      <th>Vchr19b_1</th>\n      <th>Vchr19b_2</th>\n      <th>idx</th>\n    </tr>\n  </thead>\n  <tbody>\n    <tr>\n      <th>0</th>\n      <td>1\\ABBUOTO</td>\n      <td>197</td>\n      <td>222</td>\n      <td>107</td>\n      <td>107</td>\n      <td>95</td>\n      <td>103</td>\n      <td>146</td>\n      <td>154</td>\n      <td>115</td>\n      <td>...</td>\n      <td>*</td>\n      <td>167</td>\n      <td>192</td>\n      <td>146</td>\n      <td>147</td>\n      <td>146</td>\n      <td>146</td>\n      <td>162</td>\n      <td>166</td>\n      <td>1</td>\n    </tr>\n    <tr>\n      <th>1</th>\n      <td>2\\ABRUSCO</td>\n      <td>222</td>\n      <td>222</td>\n      <td>99</td>\n      <td>107</td>\n      <td>95</td>\n      <td>103</td>\n      <td>137</td>\n      <td>146</td>\n      <td>115</td>\n      <td>...</td>\n      <td>185</td>\n      <td>159</td>\n      <td>167</td>\n      <td>146</td>\n      <td>146</td>\n      <td>142</td>\n      <td>142</td>\n      <td>162</td>\n      <td>166</td>\n      <td>2</td>\n    </tr>\n    <tr>\n      <th>2</th>\n      <td>3\\AGLIANICO</td>\n      <td>222</td>\n      <td>226</td>\n      <td>99</td>\n      <td>107</td>\n      <td>103</td>\n      <td>103</td>\n      <td>146</td>\n      <td>146</td>\n      <td>123</td>\n      <td>...</td>\n      <td>177</td>\n      <td>155</td>\n      <td>159</td>\n      <td>146</td>\n      <td>146</td>\n      <td>142</td>\n      <td>146</td>\n      <td>166</td>\n      <td>166</td>\n      <td>3</td>\n    </tr>\n    <tr>\n      <th>3</th>\n      <td>6\\ALBANA</td>\n      <td>222</td>\n      <td>222</td>\n      <td>99</td>\n      <td>107</td>\n      <td>95</td>\n      <td>95</td>\n      <td>146</td>\n      <td>154</td>\n      <td>115</td>\n      <td>...</td>\n      <td>177</td>\n      <td>163</td>\n      <td>163</td>\n      <td>146</td>\n      <td>154</td>\n      <td>139</td>\n      <td>142</td>\n      <td>162</td>\n      <td>162</td>\n      <td>4</td>\n    </tr>\n    <tr>\n      <th>4</th>\n      <td>7\\ALBANELLO</td>\n      <td>222</td>\n      <td>230</td>\n      <td>99</td>\n      <td>99</td>\n      <td>95</td>\n      <td>103</td>\n      <td>146</td>\n      <td>146</td>\n      <td>123</td>\n      <td>...</td>\n      <td>185</td>\n      <td>163</td>\n      <td>167</td>\n      <td>146</td>\n      <td>154</td>\n      <td>146</td>\n      <td>146</td>\n      <td>162</td>\n      <td>162</td>\n      <td>5</td>\n    </tr>\n    <tr>\n      <th>...</th>\n      <td>...</td>\n      <td>...</td>\n      <td>...</td>\n      <td>...</td>\n      <td>...</td>\n      <td>...</td>\n      <td>...</td>\n      <td>...</td>\n      <td>...</td>\n      <td>...</td>\n      <td>...</td>\n      <td>...</td>\n      <td>...</td>\n      <td>...</td>\n      <td>...</td>\n      <td>...</td>\n      <td>...</td>\n      <td>...</td>\n      <td>...</td>\n      <td>...</td>\n      <td>...</td>\n    </tr>\n    <tr>\n      <th>1000</th>\n      <td>1197\\SIRIGIOLO</td>\n      <td>222</td>\n      <td>222</td>\n      <td>107</td>\n      <td>107</td>\n      <td>95</td>\n      <td>103</td>\n      <td>146</td>\n      <td>146</td>\n      <td>115</td>\n      <td>...</td>\n      <td>185</td>\n      <td>159</td>\n      <td>163</td>\n      <td>146</td>\n      <td>146</td>\n      <td>142</td>\n      <td>146</td>\n      <td>162</td>\n      <td>162</td>\n      <td>1001</td>\n    </tr>\n    <tr>\n      <th>1001</th>\n      <td>1198\\TREBBIANO_ROSA</td>\n      <td>222</td>\n      <td>222</td>\n      <td>99</td>\n      <td>99</td>\n      <td>95</td>\n      <td>103</td>\n      <td>146</td>\n      <td>146</td>\n      <td>*</td>\n      <td>...</td>\n      <td>177</td>\n      <td>163</td>\n      <td>163</td>\n      <td>146</td>\n      <td>147</td>\n      <td>146</td>\n      <td>146</td>\n      <td>162</td>\n      <td>166</td>\n      <td>1002</td>\n    </tr>\n    <tr>\n      <th>1002</th>\n      <td>1199\\TINTURIE</td>\n      <td>222</td>\n      <td>222</td>\n      <td>99</td>\n      <td>99</td>\n      <td>95</td>\n      <td>103</td>\n      <td>146</td>\n      <td>154</td>\n      <td>115</td>\n      <td>...</td>\n      <td>177</td>\n      <td>151</td>\n      <td>163</td>\n      <td>147</td>\n      <td>147</td>\n      <td>142</td>\n      <td>146</td>\n      <td>166</td>\n      <td>170</td>\n      <td>1003</td>\n    </tr>\n    <tr>\n      <th>1003</th>\n      <td>1200\\TRALCIO_ROSSO</td>\n      <td>222</td>\n      <td>222</td>\n      <td>99</td>\n      <td>107</td>\n      <td>95</td>\n      <td>103</td>\n      <td>141</td>\n      <td>146</td>\n      <td>115</td>\n      <td>...</td>\n      <td>177</td>\n      <td>151</td>\n      <td>151</td>\n      <td>146</td>\n      <td>147</td>\n      <td>146</td>\n      <td>146</td>\n      <td>166</td>\n      <td>166</td>\n      <td>1004</td>\n    </tr>\n    <tr>\n      <th>1004</th>\n      <td>CRA\\VELTLINER_ROT</td>\n      <td>197</td>\n      <td>222</td>\n      <td>95</td>\n      <td>99</td>\n      <td>95</td>\n      <td>103</td>\n      <td>137</td>\n      <td>146</td>\n      <td>123</td>\n      <td>...</td>\n      <td>185</td>\n      <td>151</td>\n      <td>163</td>\n      <td>146</td>\n      <td>154</td>\n      <td>149</td>\n      <td>149</td>\n      <td>158</td>\n      <td>158</td>\n      <td>1005</td>\n    </tr>\n  </tbody>\n</table>\n<p>1005 rows × 70 columns</p>\n</div>"
     },
     "execution_count": 98,
     "metadata": {},
     "output_type": "execute_result"
    }
   ],
   "source": [
    "df = pd.read_excel(\"database1005 grapes 34 ssr work file.xls\")\n",
    "df[\"idx\"] = range(1, len(df)+1)\n",
    "df"
   ],
   "metadata": {
    "collapsed": false,
    "pycharm": {
     "name": "#%%\n"
    }
   }
  },
  {
   "cell_type": "code",
   "execution_count": 104,
   "outputs": [
    {
     "name": "stdout",
     "output_type": "stream",
     "text": [
      "col: VChr1a_1\n",
      "193 226 197 230 205 175 243 218 222 \n",
      "col: VChr1a_2\n",
      "226 197 230 205 239 175 243 218 222 \n",
      "col: VChr1b_1\n",
      "99 107 111 91 95 \n",
      "col: VChr1b_2\n",
      "107 99 95 111 \n",
      "col: VChr1c_1\n",
      "90 95 103 \n",
      "col: VChr1c_2\n",
      "103 95 \n",
      "col: VChr2a_1\n",
      "137 146 141 \n",
      "col: VChr2a_2\n",
      "137 146 270 154 \n",
      "col: VChr2b_1\n",
      "115 123 119 \n",
      "col: VChr2b_2\n",
      "123 115 127 119 \n",
      "col: VChr3a_1\n",
      "193 227 196 199 174 209 178 181 184 187 221 190 \n",
      "col: VChr3a_2\n",
      "193 227 196 199 202 174 209 178 181 184 187 221 190 \n",
      "col: VChr4a_1\n",
      "192 196 173 181 185 188 \n",
      "col: VChr4a_2\n",
      "192 196 204 181 185 188 \n",
      "col: VChr5a_1\n",
      "193 259 231 198 203 236 241 245 182 216 253 \n",
      "col: VChr5a_2\n",
      "193 259 231 198 241 243 245 182 216 249 253 \n",
      "col: VChr5b_1\n",
      "193 195 198 202 210 179 183 187 191 \n",
      "col: VChr5b_2\n",
      "193 195 198 202 187 206 210 183 219 191 \n",
      "col: VCHr5c_1\n",
      "100 104 107 115 83 119 123 \n",
      "col: VChr5c_2\n",
      "100 104 107 115 83 119 123 \n",
      "col: VChr6a_1\n",
      "176 180 172 184 \n",
      "col: VChr6a_2\n",
      "176 180 172 184 \n",
      "col: Vchr7a_1\n",
      "140 125 135 \n",
      "col: Vchr7a_2\n",
      "140 135 \n",
      "col: VChr7b_1\n",
      "184 180 188 172 \n",
      "col: VChr7b_2\n",
      "184 180 188 172 \n",
      "col: VChr8a_1\n",
      "194 196 202 172 206 175 178 181 184 185 190 191 \n",
      "col: VChr8a_2\n",
      "194 196 202 172 206 175 178 181 184 185 190 191 \n",
      "col: VChr8b_1\n",
      "132 135 138 142 149 150 152 155 158 96 102 105 108 111 114 117 120 123 126 \n",
      "col: VChr8b_2\n",
      "129 132 135 138 142 149 150 152 155 158 96 161 102 108 111 114 117 120 123 126 \n",
      "col: VChr9a_1\n",
      "96 99 102 105 108 111 114 117 90 \n",
      "col: VChr9a_2\n",
      "99 102 105 111 114 117 120 90 \n",
      "col: VChr9b_1\n",
      "160 131 102 105 107 141 111 144 113 122 125 \n",
      "col: VChr9b_2\n",
      "160 131 105 107 141 111 144 113 116 148 122 125 \n",
      "col: Vchr10b_1\n",
      "129 132 138 120 126 \n",
      "col: Vchr10b_2\n",
      "129 138 132 \n",
      "col: Vchr11a_1\n",
      "194 198 201 203 207 115 186 \n",
      "col: Vchr11a_2\n",
      "194 198 201 203 207 115 186 \n",
      "col: Vchr12a_1\n",
      "129 134 137 141 142 121 125 \n",
      "col: Vchr12a_2\n",
      "134 137 141 142 146 \n",
      "col: Vchr12b_1\n",
      "170 162 166 122 \n",
      "col: Vchr12b_2\n",
      "170 162 166 \n",
      "col: Vchr13a_1\n",
      "135 140 144 146 151 156 \n",
      "col: Vchr13a_2\n",
      "165 135 140 144 146 151 156 \n",
      "col: Vchr13b_1\n",
      "161 165 169 145 149 153 157 \n",
      "col: Vchr13b_2\n",
      "161 165 169 145 149 153 155 157 159 \n",
      "col: Vchr13c_1\n",
      "120 114 123 135 \n",
      "col: Vchr13c_2\n",
      "120 114 123 135 \n",
      "col: Vchr14a_1\n",
      "128 188 132 110 \n",
      "col: Vchr14a_2\n",
      "192 188 132 128 \n",
      "col: Vchr14b_1\n",
      "193 196 199 208 211 214 217 221 224 170 236 173 176 178 181 184 187 \n",
      "col: Vchr14b_2\n",
      "193 196 199 208 211 214 217 221 224 236 239 176 178 181 184 187 190 \n",
      "col: Vchr15a_1\n",
      "161 165 135 140 144 149 153 127 \n",
      "col: Vchr15a_2\n",
      "161 165 140 144 149 153 157 127 \n",
      "col: Vchr16a_1\n",
      "99 167 107 111 119 159 \n",
      "col: Vchr16a_2\n",
      "99 167 138 107 171 111 148 119 152 159 \n",
      "col: Vchr16b_1\n",
      "165 173 177 180 184 185 188 189 \n",
      "col: Vchr16b_2\n",
      "193 165 197 177 180 184 185 189 \n",
      "col: Vchr17a_1\n",
      "177 185 166 159 \n",
      "col: Vchr17a_2\n",
      "185 177 \n",
      "col: Vchr18a_1\n",
      "192 163 133 167 171 175 179 151 155 159 \n",
      "col: Vchr18a_2\n",
      "192 163 167 171 175 179 151 155 159 \n",
      "col: Vchr18b_1\n",
      "137 141 146 147 150 154 \n",
      "col: Vchr18b_2\n",
      "146 147 150 154 \n",
      "col: Vchr19a_1\n",
      "133 136 139 142 146 149 123 126 \n",
      "col: Vchr19a_2\n",
      "136 139 142 146 149 152 126 \n",
      "col: Vchr19b_1\n",
      "162 166 170 156 158 \n",
      "col: Vchr19b_2\n",
      "162 166 170 156 158 \n"
     ]
    }
   ],
   "source": [
    "g = Glucose3()\n",
    "\n",
    "for col in df.columns:\n",
    "    if col in {\"Numerical code\\Accession_name\", \"idx\"}: continue\n",
    "    print(f\"col: {col}\")\n",
    "\n",
    "    alleles = set(df[col]) - {\"*\"}\n",
    "\n",
    "    for allele in alleles:\n",
    "        print(allele, end=\" \")\n",
    "\n",
    "        items = list(df[df[col] == allele][\"idx\"])\n",
    "        g.add_clause(items)\n",
    "\n",
    "    print(\"\")"
   ],
   "metadata": {
    "collapsed": false,
    "pycharm": {
     "name": "#%%\n"
    }
   }
  },
  {
   "cell_type": "code",
   "execution_count": 107,
   "outputs": [
    {
     "name": "stdout",
     "output_type": "stream",
     "text": [
      "True\n"
     ]
    }
   ],
   "source": [
    "print(g.solve())\n",
    "model = g.get_model()"
   ],
   "metadata": {
    "collapsed": false,
    "pycharm": {
     "name": "#%%\n"
    }
   }
  },
  {
   "cell_type": "code",
   "execution_count": 108,
   "outputs": [
    {
     "data": {
      "text/plain": "[3,\n 4,\n 12,\n 13,\n 18,\n 21,\n 22,\n 26,\n 29,\n 37,\n 40,\n 44,\n 46,\n 50,\n 57,\n 61,\n 64,\n 67,\n 68,\n 70,\n 72,\n 75,\n 76,\n 89,\n 91,\n 95,\n 98,\n 101,\n 109,\n 110,\n 112,\n 113,\n 118,\n 123,\n 124,\n 136,\n 141,\n 151,\n 159,\n 161,\n 167,\n 187,\n 190,\n 193,\n 195,\n 201,\n 203,\n 205,\n 214,\n 220,\n 221,\n 236,\n 244,\n 288,\n 298,\n 303,\n 317,\n 328,\n 350,\n 357,\n 374,\n 377,\n 390,\n 391,\n 404,\n 406,\n 407,\n 410,\n 447,\n 448,\n 454,\n 484,\n 507,\n 512,\n 526,\n 535,\n 575,\n 608,\n 741,\n 803,\n 877,\n 895,\n 907,\n 911,\n 924,\n 955,\n 972,\n 974,\n 979,\n 991,\n 1005]"
     },
     "execution_count": 108,
     "metadata": {},
     "output_type": "execute_result"
    }
   ],
   "source": [
    "[x for x in model if x > 0]"
   ],
   "metadata": {
    "collapsed": false,
    "pycharm": {
     "name": "#%%\n"
    }
   }
  },
  {
   "cell_type": "code",
   "execution_count": null,
   "outputs": [],
   "source": [],
   "metadata": {
    "collapsed": false,
    "pycharm": {
     "name": "#%%\n"
    }
   }
  },
  {
   "cell_type": "code",
   "execution_count": null,
   "outputs": [],
   "source": [],
   "metadata": {
    "collapsed": false,
    "pycharm": {
     "name": "#%%\n"
    }
   }
  },
  {
   "cell_type": "code",
   "execution_count": 110,
   "outputs": [],
   "source": [
    "from pulp import *"
   ],
   "metadata": {
    "collapsed": false,
    "pycharm": {
     "name": "#%%\n"
    }
   }
  },
  {
   "cell_type": "code",
   "execution_count": 123,
   "outputs": [
    {
     "data": {
      "text/plain": "1"
     },
     "execution_count": 123,
     "metadata": {},
     "output_type": "execute_result"
    }
   ],
   "source": [
    "x = LpVariable(\"x\", cat=\"Binary\")\n",
    "y = LpVariable(\"y\", cat=\"Binary\")\n",
    "prob = LpProblem(\"myProblem\", LpMinimize)\n",
    "prob += lpSum([x,y]) >= 1\n",
    "prob += lpSum([x,y])\n",
    "status = prob.solve()\n",
    "status"
   ],
   "metadata": {
    "collapsed": false,
    "pycharm": {
     "name": "#%%\n"
    }
   }
  },
  {
   "cell_type": "code",
   "execution_count": 123,
   "outputs": [],
   "source": [],
   "metadata": {
    "collapsed": false,
    "pycharm": {
     "name": "#%%\n"
    }
   }
  },
  {
   "cell_type": "code",
   "execution_count": 124,
   "outputs": [
    {
     "data": {
      "text/plain": "{x: 1.0, y: 0.0}"
     },
     "execution_count": 124,
     "metadata": {},
     "output_type": "execute_result"
    }
   ],
   "source": [
    "{x: value(x) for x in [x,y]}"
   ],
   "metadata": {
    "collapsed": false,
    "pycharm": {
     "name": "#%%\n"
    }
   }
  },
  {
   "cell_type": "code",
   "execution_count": null,
   "outputs": [],
   "source": [],
   "metadata": {
    "collapsed": false,
    "pycharm": {
     "name": "#%%\n"
    }
   }
  }
 ],
 "metadata": {
  "kernelspec": {
   "display_name": "Python 3",
   "language": "python",
   "name": "python3"
  },
  "language_info": {
   "codemirror_mode": {
    "name": "ipython",
    "version": 2
   },
   "file_extension": ".py",
   "mimetype": "text/x-python",
   "name": "python",
   "nbconvert_exporter": "python",
   "pygments_lexer": "ipython2",
   "version": "2.7.6"
  }
 },
 "nbformat": 4,
 "nbformat_minor": 0
}